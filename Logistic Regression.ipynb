{
 "cells": [
  {
   "cell_type": "markdown",
   "id": "134dab26",
   "metadata": {},
   "source": [
    "## Logistic Regression\n",
    "\n",
    "Now that we have completed our analysis with K-Nearest Neighbors, we will shift our focus to **Logistic Regression**. This algorithm is particularly useful for binary classification tasks, making it an ideal candidate for predicting smoking status based on physiological signals.\n",
    "\n",
    "In this section, we will implement Logistic Regression and evaluate its performance using the same metrics: accuracy, precision, and recall. This comparison will help us determine which algorithm performs better for our classification task.\n",
    "\n",
    "### Steps for Logistic Regression\n",
    "1. **Data Preparation:** Ensure the dataset is ready for modeling.\n",
    "2. **Model Implementation:** Fit a Logistic Regression model to the training data.\n",
    "3. **Performance Evaluation:** Assess the model's accuracy, precision, and recall.\n",
    "4. **Comparison with KNN:** Analyze how Logistic Regression stacks up against KNN.\n",
    "\n",
    "Let’s proceed to implement Logistic Regression."
   ]
  },
  {
   "cell_type": "code",
   "execution_count": 4,
   "id": "cb622c4e",
   "metadata": {},
   "outputs": [],
   "source": [
    "import pandas as pd\n",
    "from sklearn.model_selection import train_test_split, GridSearchCV, StratifiedKFold\n",
    "from sklearn.preprocessing import StandardScaler\n",
    "from sklearn.linear_model import LogisticRegression\n",
    "from sklearn.metrics import classification_report, confusion_matrix\n",
    "import seaborn as sns\n",
    "import matplotlib.pyplot as plt\n",
    "import numpy as np\n",
    "from sklearn.model_selection import cross_val_score\n",
    "from sklearn.ensemble import RandomForestClassifier"
   ]
  },
  {
   "cell_type": "code",
   "execution_count": 5,
   "id": "07eb0afc",
   "metadata": {},
   "outputs": [
    {
     "name": "stdout",
     "output_type": "stream",
     "text": [
      "      ID gender  age  height(cm)  weight(kg)  waist(cm)  eyesight(left)  \\\n",
      "0  42427      F   45         160          55       71.0             1.0   \n",
      "1  27412      F   55         145          40       80.4             0.8   \n",
      "2  19283      M   25         170          80       94.0             1.0   \n",
      "3  45261      M   45         170          70       82.0             0.5   \n",
      "4  11155      M   40         165          60       77.0             1.2   \n",
      "\n",
      "   eyesight(right)  hearing(left)  hearing(right)  ...  hemoglobin  \\\n",
      "0              0.5            1.0             1.0  ...        11.3   \n",
      "1              0.5            1.0             1.0  ...        14.0   \n",
      "2              1.2            1.0             1.0  ...        16.6   \n",
      "3              0.4            1.0             1.0  ...        14.9   \n",
      "4              1.2            1.0             1.0  ...        16.4   \n",
      "\n",
      "   Urine protein  serum creatinine   AST    ALT    Gtp  oral  dental caries  \\\n",
      "0            1.0               0.8  17.0   10.0   11.0     Y              0   \n",
      "1            1.0               0.7  24.0   14.0   19.0     Y              1   \n",
      "2            1.0               0.8  82.0  146.0  248.0     Y              1   \n",
      "3            1.0               0.6  27.0   45.0   70.0     Y              0   \n",
      "4            1.0               1.0  40.0   69.0   55.0     Y              0   \n",
      "\n",
      "   tartar  smoking  \n",
      "0       Y        0  \n",
      "1       N        1  \n",
      "2       N        0  \n",
      "3       N        0  \n",
      "4       N        0  \n",
      "\n",
      "[5 rows x 27 columns]\n"
     ]
    }
   ],
   "source": [
    "# Load the dataset, treating the first row as the header\n",
    "DataSmoking = pd.read_csv(r\"C:\\Users\\norah\\Desktop\\Najm AI\\Classofocation Project\\archive (2)\\smoking_samples.csv\", header=0, na_values=' ?')\n",
    "\n",
    "# Display the first few rows\n",
    "print(DataSmoking.head())"
   ]
  },
  {
   "cell_type": "markdown",
   "id": "b044475f",
   "metadata": {},
   "source": [
    "We need to drop any ID columns"
   ]
  },
  {
   "cell_type": "code",
   "execution_count": 6,
   "id": "a20cef9b",
   "metadata": {},
   "outputs": [],
   "source": [
    "# Drop unnecessary features\n",
    "DataSmoking = DataSmoking.drop(columns=['ID'])"
   ]
  },
  {
   "cell_type": "markdown",
   "id": "7124ce0a",
   "metadata": {},
   "source": [
    "We noted that the \"oral\" feature contains only the result \"Y\". Therefore, we had to check every unique result of the \"oral\" feature to confirm its variability. "
   ]
  },
  {
   "cell_type": "code",
   "execution_count": 7,
   "id": "90830375",
   "metadata": {},
   "outputs": [
    {
     "name": "stdout",
     "output_type": "stream",
     "text": [
      "['Y']\n"
     ]
    }
   ],
   "source": [
    "unique_orders = DataSmoking['oral'].unique()\n",
    "print(unique_orders[:200])"
   ]
  },
  {
   "cell_type": "markdown",
   "id": "4936048a",
   "metadata": {},
   "source": [
    "We observed that the \"oral\" feature contains only the value \"Y\". Since this feature does not provide any variability or useful information for our model, we decided to drop it from the dataset.\n"
   ]
  },
  {
   "cell_type": "code",
   "execution_count": 8,
   "id": "37868950",
   "metadata": {},
   "outputs": [],
   "source": [
    "DataSmoking = DataSmoking.drop(columns=['oral'])"
   ]
  },
  {
   "cell_type": "markdown",
   "id": "fc817e4e",
   "metadata": {},
   "source": [
    "## Convert the object data into Dummy data"
   ]
  },
  {
   "cell_type": "code",
   "execution_count": 9,
   "id": "b5dcfbab",
   "metadata": {},
   "outputs": [
    {
     "name": "stdout",
     "output_type": "stream",
     "text": [
      "   age  height(cm)  weight(kg)  waist(cm)  eyesight(left)  eyesight(right)  \\\n",
      "0   45         160          55       71.0             1.0              0.5   \n",
      "1   55         145          40       80.4             0.8              0.5   \n",
      "2   25         170          80       94.0             1.0              1.2   \n",
      "3   45         170          70       82.0             0.5              0.4   \n",
      "4   40         165          60       77.0             1.2              1.2   \n",
      "\n",
      "   hearing(left)  hearing(right)  systolic  relaxation  ...  hemoglobin  \\\n",
      "0            1.0             1.0     111.0        56.0  ...        11.3   \n",
      "1            1.0             1.0     104.0        70.0  ...        14.0   \n",
      "2            1.0             1.0     110.0        70.0  ...        16.6   \n",
      "3            1.0             1.0     124.0        82.0  ...        14.9   \n",
      "4            1.0             1.0     123.0        73.0  ...        16.4   \n",
      "\n",
      "   Urine protein  serum creatinine   AST    ALT    Gtp  dental caries  \\\n",
      "0            1.0               0.8  17.0   10.0   11.0              0   \n",
      "1            1.0               0.7  24.0   14.0   19.0              1   \n",
      "2            1.0               0.8  82.0  146.0  248.0              1   \n",
      "3            1.0               0.6  27.0   45.0   70.0              0   \n",
      "4            1.0               1.0  40.0   69.0   55.0              0   \n",
      "\n",
      "   smoking  gender_M  tartar_Y  \n",
      "0        0         0         1  \n",
      "1        1         0         0  \n",
      "2        0         1         0  \n",
      "3        0         1         0  \n",
      "4        0         1         0  \n",
      "\n",
      "[5 rows x 25 columns]\n"
     ]
    }
   ],
   "source": [
    "categorical_cols = ['gender', 'tartar']\n",
    "# Convert categorical variables to dummy variables\n",
    "data_with_dummies = pd.get_dummies(DataSmoking, columns=categorical_cols, drop_first=True)\n",
    "\n",
    "# Check the new DataFrame with dummy variables\n",
    "print(data_with_dummies.head())"
   ]
  },
  {
   "cell_type": "markdown",
   "id": "44b40d62",
   "metadata": {},
   "source": [
    "**Next,** we will prepare the data for our Logistic Regression analysis by separating the features from the target variable. We define our feature set \n",
    "**𝑋**\n",
    "**X** by dropping the 'smoking' column from the dataset, while our target variable \n",
    "**𝑦**\n",
    "**y** consists of the 'smoking' column itself.\n",
    "\n",
    "To evaluate the model’s performance effectively, we will split the dataset into training and testing sets. We allocate **80%** of the data for training and **20%** for testing, ensuring reproducibility by setting a random state of 42. After the split, we create a copy of the training set and include the target variable, allowing us to easily inspect the training data. Let's take a look at the first few rows of this training dataset to confirm that it has been set up correctly."
   ]
  },
  {
   "cell_type": "code",
   "execution_count": 10,
   "id": "cd7b08ef",
   "metadata": {},
   "outputs": [
    {
     "data": {
      "text/html": [
       "<div>\n",
       "<style scoped>\n",
       "    .dataframe tbody tr th:only-of-type {\n",
       "        vertical-align: middle;\n",
       "    }\n",
       "\n",
       "    .dataframe tbody tr th {\n",
       "        vertical-align: top;\n",
       "    }\n",
       "\n",
       "    .dataframe thead th {\n",
       "        text-align: right;\n",
       "    }\n",
       "</style>\n",
       "<table border=\"1\" class=\"dataframe\">\n",
       "  <thead>\n",
       "    <tr style=\"text-align: right;\">\n",
       "      <th></th>\n",
       "      <th>age</th>\n",
       "      <th>height(cm)</th>\n",
       "      <th>weight(kg)</th>\n",
       "      <th>waist(cm)</th>\n",
       "      <th>eyesight(left)</th>\n",
       "      <th>eyesight(right)</th>\n",
       "      <th>hearing(left)</th>\n",
       "      <th>hearing(right)</th>\n",
       "      <th>systolic</th>\n",
       "      <th>relaxation</th>\n",
       "      <th>...</th>\n",
       "      <th>hemoglobin</th>\n",
       "      <th>Urine protein</th>\n",
       "      <th>serum creatinine</th>\n",
       "      <th>AST</th>\n",
       "      <th>ALT</th>\n",
       "      <th>Gtp</th>\n",
       "      <th>dental caries</th>\n",
       "      <th>gender_M</th>\n",
       "      <th>tartar_Y</th>\n",
       "      <th>smoking</th>\n",
       "    </tr>\n",
       "  </thead>\n",
       "  <tbody>\n",
       "    <tr>\n",
       "      <th>4315</th>\n",
       "      <td>40</td>\n",
       "      <td>170</td>\n",
       "      <td>70</td>\n",
       "      <td>85.0</td>\n",
       "      <td>1.2</td>\n",
       "      <td>1.5</td>\n",
       "      <td>1.0</td>\n",
       "      <td>1.0</td>\n",
       "      <td>120.0</td>\n",
       "      <td>80.0</td>\n",
       "      <td>...</td>\n",
       "      <td>16.2</td>\n",
       "      <td>1.0</td>\n",
       "      <td>1.2</td>\n",
       "      <td>22.0</td>\n",
       "      <td>22.0</td>\n",
       "      <td>20.0</td>\n",
       "      <td>0</td>\n",
       "      <td>1</td>\n",
       "      <td>0</td>\n",
       "      <td>0</td>\n",
       "    </tr>\n",
       "    <tr>\n",
       "      <th>1832</th>\n",
       "      <td>60</td>\n",
       "      <td>150</td>\n",
       "      <td>65</td>\n",
       "      <td>96.0</td>\n",
       "      <td>0.8</td>\n",
       "      <td>0.9</td>\n",
       "      <td>1.0</td>\n",
       "      <td>1.0</td>\n",
       "      <td>126.0</td>\n",
       "      <td>83.0</td>\n",
       "      <td>...</td>\n",
       "      <td>13.4</td>\n",
       "      <td>4.0</td>\n",
       "      <td>0.9</td>\n",
       "      <td>21.0</td>\n",
       "      <td>12.0</td>\n",
       "      <td>21.0</td>\n",
       "      <td>1</td>\n",
       "      <td>0</td>\n",
       "      <td>1</td>\n",
       "      <td>0</td>\n",
       "    </tr>\n",
       "    <tr>\n",
       "      <th>3819</th>\n",
       "      <td>45</td>\n",
       "      <td>150</td>\n",
       "      <td>45</td>\n",
       "      <td>69.0</td>\n",
       "      <td>0.7</td>\n",
       "      <td>0.9</td>\n",
       "      <td>1.0</td>\n",
       "      <td>1.0</td>\n",
       "      <td>120.0</td>\n",
       "      <td>70.0</td>\n",
       "      <td>...</td>\n",
       "      <td>14.3</td>\n",
       "      <td>1.0</td>\n",
       "      <td>0.8</td>\n",
       "      <td>20.0</td>\n",
       "      <td>17.0</td>\n",
       "      <td>20.0</td>\n",
       "      <td>0</td>\n",
       "      <td>0</td>\n",
       "      <td>0</td>\n",
       "      <td>0</td>\n",
       "    </tr>\n",
       "    <tr>\n",
       "      <th>957</th>\n",
       "      <td>20</td>\n",
       "      <td>175</td>\n",
       "      <td>75</td>\n",
       "      <td>76.0</td>\n",
       "      <td>1.5</td>\n",
       "      <td>1.5</td>\n",
       "      <td>1.0</td>\n",
       "      <td>1.0</td>\n",
       "      <td>122.0</td>\n",
       "      <td>79.0</td>\n",
       "      <td>...</td>\n",
       "      <td>14.5</td>\n",
       "      <td>1.0</td>\n",
       "      <td>1.1</td>\n",
       "      <td>22.0</td>\n",
       "      <td>23.0</td>\n",
       "      <td>21.0</td>\n",
       "      <td>1</td>\n",
       "      <td>1</td>\n",
       "      <td>1</td>\n",
       "      <td>1</td>\n",
       "    </tr>\n",
       "    <tr>\n",
       "      <th>3545</th>\n",
       "      <td>45</td>\n",
       "      <td>170</td>\n",
       "      <td>65</td>\n",
       "      <td>76.0</td>\n",
       "      <td>0.6</td>\n",
       "      <td>1.2</td>\n",
       "      <td>1.0</td>\n",
       "      <td>1.0</td>\n",
       "      <td>112.0</td>\n",
       "      <td>63.0</td>\n",
       "      <td>...</td>\n",
       "      <td>16.2</td>\n",
       "      <td>1.0</td>\n",
       "      <td>0.9</td>\n",
       "      <td>17.0</td>\n",
       "      <td>23.0</td>\n",
       "      <td>14.0</td>\n",
       "      <td>0</td>\n",
       "      <td>1</td>\n",
       "      <td>1</td>\n",
       "      <td>1</td>\n",
       "    </tr>\n",
       "  </tbody>\n",
       "</table>\n",
       "<p>5 rows × 25 columns</p>\n",
       "</div>"
      ],
      "text/plain": [
       "      age  height(cm)  weight(kg)  waist(cm)  eyesight(left)  eyesight(right)  \\\n",
       "4315   40         170          70       85.0             1.2              1.5   \n",
       "1832   60         150          65       96.0             0.8              0.9   \n",
       "3819   45         150          45       69.0             0.7              0.9   \n",
       "957    20         175          75       76.0             1.5              1.5   \n",
       "3545   45         170          65       76.0             0.6              1.2   \n",
       "\n",
       "      hearing(left)  hearing(right)  systolic  relaxation  ...  hemoglobin  \\\n",
       "4315            1.0             1.0     120.0        80.0  ...        16.2   \n",
       "1832            1.0             1.0     126.0        83.0  ...        13.4   \n",
       "3819            1.0             1.0     120.0        70.0  ...        14.3   \n",
       "957             1.0             1.0     122.0        79.0  ...        14.5   \n",
       "3545            1.0             1.0     112.0        63.0  ...        16.2   \n",
       "\n",
       "      Urine protein  serum creatinine   AST   ALT   Gtp  dental caries  \\\n",
       "4315            1.0               1.2  22.0  22.0  20.0              0   \n",
       "1832            4.0               0.9  21.0  12.0  21.0              1   \n",
       "3819            1.0               0.8  20.0  17.0  20.0              0   \n",
       "957             1.0               1.1  22.0  23.0  21.0              1   \n",
       "3545            1.0               0.9  17.0  23.0  14.0              0   \n",
       "\n",
       "      gender_M  tartar_Y  smoking  \n",
       "4315         1         0        0  \n",
       "1832         0         1        0  \n",
       "3819         0         0        0  \n",
       "957          1         1        1  \n",
       "3545         1         1        1  \n",
       "\n",
       "[5 rows x 25 columns]"
      ]
     },
     "execution_count": 10,
     "metadata": {},
     "output_type": "execute_result"
    }
   ],
   "source": [
    "X = data_with_dummies.drop(columns=['smoking'])\n",
    "y = data_with_dummies['smoking']\n",
    "\n",
    "\n",
    "\n",
    "# Split the dataset into training and testing sets\n",
    "X_train, X_test, y_train, y_test = train_test_split(X, y, test_size=0.2, random_state=42)\n",
    "\n",
    "train_df = X_train.copy()\n",
    "train_df['smoking'] = y_train\n",
    "train_df.head()"
   ]
  },
  {
   "cell_type": "code",
   "execution_count": 11,
   "id": "74fe2f87",
   "metadata": {},
   "outputs": [
    {
     "data": {
      "text/html": [
       "<div>\n",
       "<style scoped>\n",
       "    .dataframe tbody tr th:only-of-type {\n",
       "        vertical-align: middle;\n",
       "    }\n",
       "\n",
       "    .dataframe tbody tr th {\n",
       "        vertical-align: top;\n",
       "    }\n",
       "\n",
       "    .dataframe thead th {\n",
       "        text-align: right;\n",
       "    }\n",
       "</style>\n",
       "<table border=\"1\" class=\"dataframe\">\n",
       "  <thead>\n",
       "    <tr style=\"text-align: right;\">\n",
       "      <th></th>\n",
       "      <th>age</th>\n",
       "      <th>height(cm)</th>\n",
       "      <th>weight(kg)</th>\n",
       "      <th>waist(cm)</th>\n",
       "      <th>eyesight(left)</th>\n",
       "      <th>eyesight(right)</th>\n",
       "      <th>hearing(left)</th>\n",
       "      <th>hearing(right)</th>\n",
       "      <th>systolic</th>\n",
       "      <th>relaxation</th>\n",
       "      <th>...</th>\n",
       "      <th>hemoglobin</th>\n",
       "      <th>Urine protein</th>\n",
       "      <th>serum creatinine</th>\n",
       "      <th>AST</th>\n",
       "      <th>ALT</th>\n",
       "      <th>Gtp</th>\n",
       "      <th>dental caries</th>\n",
       "      <th>smoking</th>\n",
       "      <th>gender_M</th>\n",
       "      <th>tartar_Y</th>\n",
       "    </tr>\n",
       "  </thead>\n",
       "  <tbody>\n",
       "    <tr>\n",
       "      <th>0</th>\n",
       "      <td>45</td>\n",
       "      <td>160</td>\n",
       "      <td>55</td>\n",
       "      <td>71.0</td>\n",
       "      <td>1.0</td>\n",
       "      <td>0.5</td>\n",
       "      <td>1.0</td>\n",
       "      <td>1.0</td>\n",
       "      <td>111.0</td>\n",
       "      <td>56.0</td>\n",
       "      <td>...</td>\n",
       "      <td>11.3</td>\n",
       "      <td>1.0</td>\n",
       "      <td>0.8</td>\n",
       "      <td>17.0</td>\n",
       "      <td>10.0</td>\n",
       "      <td>11.0</td>\n",
       "      <td>0</td>\n",
       "      <td>0</td>\n",
       "      <td>0</td>\n",
       "      <td>1</td>\n",
       "    </tr>\n",
       "    <tr>\n",
       "      <th>1</th>\n",
       "      <td>55</td>\n",
       "      <td>145</td>\n",
       "      <td>40</td>\n",
       "      <td>80.4</td>\n",
       "      <td>0.8</td>\n",
       "      <td>0.5</td>\n",
       "      <td>1.0</td>\n",
       "      <td>1.0</td>\n",
       "      <td>104.0</td>\n",
       "      <td>70.0</td>\n",
       "      <td>...</td>\n",
       "      <td>14.0</td>\n",
       "      <td>1.0</td>\n",
       "      <td>0.7</td>\n",
       "      <td>24.0</td>\n",
       "      <td>14.0</td>\n",
       "      <td>19.0</td>\n",
       "      <td>1</td>\n",
       "      <td>1</td>\n",
       "      <td>0</td>\n",
       "      <td>0</td>\n",
       "    </tr>\n",
       "    <tr>\n",
       "      <th>2</th>\n",
       "      <td>25</td>\n",
       "      <td>170</td>\n",
       "      <td>80</td>\n",
       "      <td>94.0</td>\n",
       "      <td>1.0</td>\n",
       "      <td>1.2</td>\n",
       "      <td>1.0</td>\n",
       "      <td>1.0</td>\n",
       "      <td>110.0</td>\n",
       "      <td>70.0</td>\n",
       "      <td>...</td>\n",
       "      <td>16.6</td>\n",
       "      <td>1.0</td>\n",
       "      <td>0.8</td>\n",
       "      <td>82.0</td>\n",
       "      <td>146.0</td>\n",
       "      <td>248.0</td>\n",
       "      <td>1</td>\n",
       "      <td>0</td>\n",
       "      <td>1</td>\n",
       "      <td>0</td>\n",
       "    </tr>\n",
       "    <tr>\n",
       "      <th>3</th>\n",
       "      <td>45</td>\n",
       "      <td>170</td>\n",
       "      <td>70</td>\n",
       "      <td>82.0</td>\n",
       "      <td>0.5</td>\n",
       "      <td>0.4</td>\n",
       "      <td>1.0</td>\n",
       "      <td>1.0</td>\n",
       "      <td>124.0</td>\n",
       "      <td>82.0</td>\n",
       "      <td>...</td>\n",
       "      <td>14.9</td>\n",
       "      <td>1.0</td>\n",
       "      <td>0.6</td>\n",
       "      <td>27.0</td>\n",
       "      <td>45.0</td>\n",
       "      <td>70.0</td>\n",
       "      <td>0</td>\n",
       "      <td>0</td>\n",
       "      <td>1</td>\n",
       "      <td>0</td>\n",
       "    </tr>\n",
       "    <tr>\n",
       "      <th>4</th>\n",
       "      <td>40</td>\n",
       "      <td>165</td>\n",
       "      <td>60</td>\n",
       "      <td>77.0</td>\n",
       "      <td>1.2</td>\n",
       "      <td>1.2</td>\n",
       "      <td>1.0</td>\n",
       "      <td>1.0</td>\n",
       "      <td>123.0</td>\n",
       "      <td>73.0</td>\n",
       "      <td>...</td>\n",
       "      <td>16.4</td>\n",
       "      <td>1.0</td>\n",
       "      <td>1.0</td>\n",
       "      <td>40.0</td>\n",
       "      <td>69.0</td>\n",
       "      <td>55.0</td>\n",
       "      <td>0</td>\n",
       "      <td>0</td>\n",
       "      <td>1</td>\n",
       "      <td>0</td>\n",
       "    </tr>\n",
       "  </tbody>\n",
       "</table>\n",
       "<p>5 rows × 25 columns</p>\n",
       "</div>"
      ],
      "text/plain": [
       "   age  height(cm)  weight(kg)  waist(cm)  eyesight(left)  eyesight(right)  \\\n",
       "0   45         160          55       71.0             1.0              0.5   \n",
       "1   55         145          40       80.4             0.8              0.5   \n",
       "2   25         170          80       94.0             1.0              1.2   \n",
       "3   45         170          70       82.0             0.5              0.4   \n",
       "4   40         165          60       77.0             1.2              1.2   \n",
       "\n",
       "   hearing(left)  hearing(right)  systolic  relaxation  ...  hemoglobin  \\\n",
       "0            1.0             1.0     111.0        56.0  ...        11.3   \n",
       "1            1.0             1.0     104.0        70.0  ...        14.0   \n",
       "2            1.0             1.0     110.0        70.0  ...        16.6   \n",
       "3            1.0             1.0     124.0        82.0  ...        14.9   \n",
       "4            1.0             1.0     123.0        73.0  ...        16.4   \n",
       "\n",
       "   Urine protein  serum creatinine   AST    ALT    Gtp  dental caries  \\\n",
       "0            1.0               0.8  17.0   10.0   11.0              0   \n",
       "1            1.0               0.7  24.0   14.0   19.0              1   \n",
       "2            1.0               0.8  82.0  146.0  248.0              1   \n",
       "3            1.0               0.6  27.0   45.0   70.0              0   \n",
       "4            1.0               1.0  40.0   69.0   55.0              0   \n",
       "\n",
       "   smoking  gender_M  tartar_Y  \n",
       "0        0         0         1  \n",
       "1        1         0         0  \n",
       "2        0         1         0  \n",
       "3        0         1         0  \n",
       "4        0         1         0  \n",
       "\n",
       "[5 rows x 25 columns]"
      ]
     },
     "execution_count": 11,
     "metadata": {},
     "output_type": "execute_result"
    }
   ],
   "source": [
    "data_with_dummies.head()"
   ]
  },
  {
   "cell_type": "markdown",
   "id": "96c0f02c",
   "metadata": {},
   "source": [
    "**Next,** we will prepare the data for our Logistic Regression analysis by separating the features from the target variable. We define our feature set **(X)** by dropping the 'smoking' column, while our target variable **(y)** consists of the 'smoking' column.\n",
    "\n",
    "To evaluate the model’s performance effectively, we will split the dataset into training **(80%)** and testing **(20%)** sets, ensuring reproducibility with a random state of 42. After the split, we'll create a copy of the training set that includes the target variable for easy inspection.\n",
    "\n",
    "Additionally, we will create boxplots for each feature to help us choose an appropriate **threshold** for classifying smoking status. This visual analysis will reveal patterns and potential cutoff points, guiding us in selecting thresholds that enhance the model's predictive accuracy. Let's take a look at the first few rows of the training dataset to confirm its setup."
   ]
  },
  {
   "cell_type": "code",
   "execution_count": 12,
   "id": "192021a4",
   "metadata": {},
   "outputs": [
    {
     "data": {
      "image/png": "[encoded data removed]",
      "text/plain": [
       "<Figure size 1080x720 with 24 Axes>"
      ]
     },
     "metadata": {
      "needs_background": "light"
     },
     "output_type": "display_data"
    }
   ],
   "source": [
    "import matplotlib.pyplot as plt\n",
    "import seaborn as sns\n",
    "\n",
    "# Set up the figure size\n",
    "plt.figure(figsize=(15, 10))\n",
    "\n",
    "# Create boxplots for each feature\n",
    "for i, column in enumerate(X.columns):\n",
    "    plt.subplot(5, 6, i + 1)  # Adjust the grid size according to the number of features\n",
    "    sns.boxplot(data=data_with_dummies, x='smoking', y=column)\n",
    "    plt.title(column)\n",
    "\n",
    "plt.tight_layout()\n",
    "plt.show()"
   ]
  },
  {
   "cell_type": "markdown",
   "id": "8ca12d9f",
   "metadata": {},
   "source": [
    "**Model Initialization:** We create a logistic regression model named lm1 with a high regularization parameter **C set to 1000**. By choosing such a high value, we effectively minimize the regularization effect. This means the model will closely fit the training data, allowing it to capture more specific patterns without being overly constrained.\n",
    "\n",
    "**Using Height as a Feature:** The model is then trained using only one feature: **height(cm)**. This means we want to see how well we can predict whether someone is a smoker based solely on their height.\n",
    "Threshold Concept: In this context, height acts as a threshold. We will examine how the height values relate to smoking status. For example, we can analyze if people above a certain height are more or less likely to be smokers.\n",
    "By focusing on height, we can determine if it is a significant predictor for smoking status and establish a threshold that might help in classification."
   ]
  },
  {
   "cell_type": "code",
   "execution_count": 13,
   "id": "c807b94e",
   "metadata": {},
   "outputs": [
    {
     "data": {
      "text/html": [
       "<style>#sk-container-id-1 {color: black;}#sk-container-id-1 pre{padding: 0;}#sk-container-id-1 div.sk-toggleable {background-color: white;}#sk-container-id-1 label.sk-toggleable__label {cursor: pointer;display: block;width: 100%;margin-bottom: 0;padding: 0.3em;box-sizing: border-box;text-align: center;}#sk-container-id-1 label.sk-toggleable__label-arrow:before {content: \"▸\";float: left;margin-right: 0.25em;color: #696969;}#sk-container-id-1 label.sk-toggleable__label-arrow:hover:before {color: black;}#sk-container-id-1 div.sk-estimator:hover label.sk-toggleable__label-arrow:before {color: black;}#sk-container-id-1 div.sk-toggleable__content {max-height: 0;max-width: 0;overflow: hidden;text-align: left;background-color: #f0f8ff;}#sk-container-id-1 div.sk-toggleable__content pre {margin: 0.2em;color: black;border-radius: 0.25em;background-color: #f0f8ff;}#sk-container-id-1 input.sk-toggleable__control:checked~div.sk-toggleable__content {max-height: 200px;max-width: 100%;overflow: auto;}#sk-container-id-1 input.sk-toggleable__control:checked~label.sk-toggleable__label-arrow:before {content: \"▾\";}#sk-container-id-1 div.sk-estimator input.sk-toggleable__control:checked~label.sk-toggleable__label {background-color: #d4ebff;}#sk-container-id-1 div.sk-label input.sk-toggleable__control:checked~label.sk-toggleable__label {background-color: #d4ebff;}#sk-container-id-1 input.sk-hidden--visually {border: 0;clip: rect(1px 1px 1px 1px);clip: rect(1px, 1px, 1px, 1px);height: 1px;margin: -1px;overflow: hidden;padding: 0;position: absolute;width: 1px;}#sk-container-id-1 div.sk-estimator {font-family: monospace;background-color: #f0f8ff;border: 1px dotted black;border-radius: 0.25em;box-sizing: border-box;margin-bottom: 0.5em;}#sk-container-id-1 div.sk-estimator:hover {background-color: #d4ebff;}#sk-container-id-1 div.sk-parallel-item::after {content: \"\";width: 100%;border-bottom: 1px solid gray;flex-grow: 1;}#sk-container-id-1 div.sk-label:hover label.sk-toggleable__label {background-color: #d4ebff;}#sk-container-id-1 div.sk-serial::before {content: \"\";position: absolute;border-left: 1px solid gray;box-sizing: border-box;top: 0;bottom: 0;left: 50%;z-index: 0;}#sk-container-id-1 div.sk-serial {display: flex;flex-direction: column;align-items: center;background-color: white;padding-right: 0.2em;padding-left: 0.2em;position: relative;}#sk-container-id-1 div.sk-item {position: relative;z-index: 1;}#sk-container-id-1 div.sk-parallel {display: flex;align-items: stretch;justify-content: center;background-color: white;position: relative;}#sk-container-id-1 div.sk-item::before, #sk-container-id-1 div.sk-parallel-item::before {content: \"\";position: absolute;border-left: 1px solid gray;box-sizing: border-box;top: 0;bottom: 0;left: 50%;z-index: -1;}#sk-container-id-1 div.sk-parallel-item {display: flex;flex-direction: column;z-index: 1;position: relative;background-color: white;}#sk-container-id-1 div.sk-parallel-item:first-child::after {align-self: flex-end;width: 50%;}#sk-container-id-1 div.sk-parallel-item:last-child::after {align-self: flex-start;width: 50%;}#sk-container-id-1 div.sk-parallel-item:only-child::after {width: 0;}#sk-container-id-1 div.sk-dashed-wrapped {border: 1px dashed gray;margin: 0 0.4em 0.5em 0.4em;box-sizing: border-box;padding-bottom: 0.4em;background-color: white;}#sk-container-id-1 div.sk-label label {font-family: monospace;font-weight: bold;display: inline-block;line-height: 1.2em;}#sk-container-id-1 div.sk-label-container {text-align: center;}#sk-container-id-1 div.sk-container {/* jupyter's `normalize.less` sets `[hidden] { display: none; }` but bootstrap.min.css set `[hidden] { display: none !important; }` so we also need the `!important` here to be able to override the default hidden behavior on the sphinx rendered scikit-learn.org. See: https://github.com/scikit-learn/scikit-learn/issues/21755 */display: inline-block !important;position: relative;}#sk-container-id-1 div.sk-text-repr-fallback {display: none;}</style><div id=\"sk-container-id-1\" class=\"sk-top-container\"><div class=\"sk-text-repr-fallback\"><pre>LogisticRegression(C=1000)</pre><b>In a Jupyter environment, please rerun this cell to show the HTML representation or trust the notebook. <br />On GitHub, the HTML representation is unable to render, please try loading this page with nbviewer.org.</b></div><div class=\"sk-container\" hidden><div class=\"sk-item\"><div class=\"sk-estimator sk-toggleable\"><input class=\"sk-toggleable__control sk-hidden--visually\" id=\"sk-estimator-id-1\" type=\"checkbox\" checked><label for=\"sk-estimator-id-1\" class=\"sk-toggleable__label sk-toggleable__label-arrow\">LogisticRegression</label><div class=\"sk-toggleable__content\"><pre>LogisticRegression(C=1000)</pre></div></div></div></div></div>"
      ],
      "text/plain": [
       "LogisticRegression(C=1000)"
      ]
     },
     "execution_count": 13,
     "metadata": {},
     "output_type": "execute_result"
    }
   ],
   "source": [
    "lm1 = LogisticRegression(C=1000) # setting C very high essentially removes regularization\n",
    "lm1.fit(X_train[['height(cm)']], y_train)"
   ]
  },
  {
   "cell_type": "markdown",
   "id": "7011cce9",
   "metadata": {},
   "source": [
    "We chose the height(cm) feature based on the following two rules:\n",
    "\n",
    "1- If the data is not irregular and unorganized.\n",
    "\n",
    "2- If it is possible to separate the results while maintaining a connection between them.\n",
    "\n",
    "To ensure that height(cm) was the appropriate feature to act as a threshold, we evaluated every feature to see its accuracy. Ultimately, we selected height(cm) because it achieved the highest accuracy.\n",
    "\n",
    "After fitting our Logistic Regression model (lm1) with the height(cm) feature, we assessed its performance on the training data using the following code:\n",
    "\n",
    "The model achieved an accuracy score of approximately 66.68%. This indicates that when predicting smoking status based solely on height, the model correctly classified about two-thirds of the training examples. While this score shows that height has some predictive power, it also suggests that further refinement of our feature selection may be necessary to improve model performance."
   ]
  },
  {
   "cell_type": "code",
   "execution_count": 14,
   "id": "4bf038e3",
   "metadata": {},
   "outputs": [
    {
     "data": {
      "text/plain": [
       "0.6668181818181819"
      ]
     },
     "execution_count": 14,
     "metadata": {},
     "output_type": "execute_result"
    }
   ],
   "source": [
    "lm1.score(X_train[['height(cm)']], y_train)"
   ]
  },
  {
   "cell_type": "markdown",
   "id": "bac1c782",
   "metadata": {},
   "source": [
    "The `viz_worst_concave_points` function visualizes predictions from a Logistic Regression model based on the `height(cm)` feature. It takes the dataset, trained model, and options for hard or soft predictions and whether to display a decision boundary.\n",
    "\n",
    "The function extracts the relevant feature, makes predictions, and visually distinguishes between the two classes—smokers and non-smokers—using different colors. If requested, it also shows a decision boundary to illustrate how the model separates the classes. This visualization helps in understanding the model's predictions and the influence of height on smoking status."
   ]
  },
  {
   "cell_type": "code",
   "execution_count": 15,
   "id": "55108824",
   "metadata": {},
   "outputs": [
    {
     "name": "stderr",
     "output_type": "stream",
     "text": [
      "C:\\Users\\norah\\anaconda3\\lib\\site-packages\\sklearn\\base.py:465: UserWarning: X does not have valid feature names, but LogisticRegression was fitted with feature names\n",
      "  warnings.warn(\n"
     ]
    },
    {
     "data": {
      "image/png": "[encoded data removed]",
      "text/plain": [
       "<Figure size 432x288 with 1 Axes>"
      ]
     },
     "metadata": {
      "needs_background": "light"
     },
     "output_type": "display_data"
    }
   ],
   "source": [
    "def viz_worst_concave_points(df, model, hard_classification=True, decision_boundary=False):\n",
    "    # Extract the Worst Concave Points feature and hard or soft predictions\n",
    "    feature = df[['height(cm)']].values\n",
    "    if hard_classification:\n",
    "        predictions = model.predict(feature)\n",
    "    else:\n",
    "        predictions = model.predict_proba(feature)[:, 1] \n",
    "\n",
    "    # Create masks for the two classes\n",
    "    malignant_mask = (df['smoking'] == 1).values  # smoking\n",
    "    benign_mask = (df['smoking'] == 0).values     # not smoking\n",
    "\n",
    "    # Plot predictions for malignant and benign cases\n",
    "    plt.plot(feature[malignant_mask], predictions[malignant_mask], 'ro', label='yes', alpha=0.5)\n",
    "    plt.plot(feature[benign_mask], predictions[benign_mask], 'bo', label='no', alpha=0.5)\n",
    "    \n",
    "    # Optionally calculate and display decision boundary as a dotted line\n",
    "    if decision_boundary:\n",
    "        b_0, b_1 = model.intercept_, model.coef_[0]\n",
    "        plt.gca().axvline(-b_0/b_1,c='k',ls='--',lw=1)\n",
    "    \n",
    "    # Plot formatting\n",
    "    plt.ylim(-0.05, 1.05)\n",
    "    plt.xlabel('height(cm)')\n",
    "    plt.ylabel('Prediction (1=yes)')\n",
    "    type_str = 'hard' if hard_classification else 'soft'\n",
    "    plt.title('Logistic Regression ' + type_str + ' Prediction for harmful vs Not harmful')\n",
    "    plt.legend(loc='lower right')\n",
    "    plt.show()\n",
    "\n",
    "# Example usage\n",
    "# Assuming you have already trained a logistic regression model (lm1) on the dataset\n",
    "X = data_with_dummies[['height(cm)']]\n",
    "y = data_with_dummies['smoking']\n",
    "X_train, X_test, y_train, y_test = train_test_split(X, y, test_size=0.2, random_state=42)\n",
    "\n",
    "lm1 = LogisticRegression()\n",
    "lm1.fit(X_train, y_train)\n",
    "\n",
    "# Call the visualization function\n",
    "viz_worst_concave_points(DataSmoking, lm1, decision_boundary=True)"
   ]
  },
  {
   "cell_type": "markdown",
   "id": "ac05a22f",
   "metadata": {},
   "source": [
    "### Explanation of Threshold Verification for `height(cm)`\n",
    "\n",
    "To determine whether 171 cm serves as a significant threshold for the `height(cm)` feature in predicting smoking status, we used the `predict_proba` method of our logistic regression model (`lm1`). This method provides the predicted probabilities of each class for given input values.\n",
    "\n",
    "We tested three height values: 170 cm, 171 cm, and 175 cm, as shown in the following code,\n",
    "\n",
    "- For **170 cm**, the predicted probability of being a smoker is approximately **0.477**. This indicates that individuals at this height are less likely to be classified as smokers.\n",
    "\n",
    "- For **171 cm**, the predicted probability is approximately **0.503**. This value is just above 0.5, suggesting that individuals at this height are at the tipping point between being classified as smokers or non-smokers.\n",
    "\n",
    "- For **175 cm**, the predicted probability rises to approximately **0.607**. This shows a stronger likelihood of being classified as a smoker for individuals at this height.\n",
    "\n",
    "From these probabilities, we observe that 171 cm acts as a pivotal point (or \"splitter\") in the height feature. Above this height, the probability of being classified as a smoker increases significantly, while below it, the probability remains below 0.5. This analysis supports our choice of 171 cm as a critical threshold for the `height(cm)` feature in our logistic regression model."
   ]
  },
  {
   "cell_type": "code",
   "execution_count": 16,
   "id": "7ada8314",
   "metadata": {},
   "outputs": [
    {
     "name": "stderr",
     "output_type": "stream",
     "text": [
      "C:\\Users\\norah\\anaconda3\\lib\\site-packages\\sklearn\\base.py:465: UserWarning: X does not have valid feature names, but LogisticRegression was fitted with feature names\n",
      "  warnings.warn(\n"
     ]
    },
    {
     "data": {
      "text/plain": [
       "array([0.47663442, 0.50310865, 0.60737595])"
      ]
     },
     "execution_count": 16,
     "metadata": {},
     "output_type": "execute_result"
    }
   ],
   "source": [
    "lm1.predict_proba([[170],[171],[175]])[:,1] "
   ]
  },
  {
   "cell_type": "code",
   "execution_count": 17,
   "id": "693bb26e",
   "metadata": {},
   "outputs": [
    {
     "name": "stderr",
     "output_type": "stream",
     "text": [
      "C:\\Users\\norah\\anaconda3\\lib\\site-packages\\sklearn\\base.py:465: UserWarning: X does not have valid feature names, but LogisticRegression was fitted with feature names\n",
      "  warnings.warn(\n"
     ]
    },
    {
     "data": {
      "image/png": "[encoded data removed]",
      "text/plain": [
       "<Figure size 432x288 with 1 Axes>"
      ]
     },
     "metadata": {
      "needs_background": "light"
     },
     "output_type": "display_data"
    }
   ],
   "source": [
    "viz_worst_concave_points(train_df, lm1, hard_classification=False, decision_boundary=True)"
   ]
  },
  {
   "cell_type": "markdown",
   "id": "798c0e12",
   "metadata": {},
   "source": [
    "**Next,** we use a function called `filter_data` to clean and refine our dataset. The purpose of this function is to focus on cases where height is a key factor in determining whether someone is a smoker or not.\n",
    "\n",
    "1. **Removing Non-Smokers Over 171 cm**: The first step in the function is to remove individuals who are non-smokers (indicated by a smoking status of 0) and are taller than 171 cm. We do this because our earlier analysis suggested that people over this height are less likely to be non-smokers. By removing these cases, we can better focus on the individuals who truly represent the non-smoking category.\n",
    "\n",
    "2. **Removing Smokers Under 171 cm**: Next, we remove smokers (indicated by a smoking status of 1) who are shorter than 171 cm. Again, our analysis indicated that individuals below this height are less likely to fall into the smoker category. Filtering these cases helps us concentrate on the relevant smokers.\n",
    "\n",
    "By applying these filters, we create a new dataset that highlights the key relationships between height and smoking status. This filtered dataset allows us to analyze the data more effectively and visualize the predictions of our Logistic Regression model (`lm1`).\n",
    "\n",
    "Finally, we call the `viz_worst_concave_points` function using this filtered data, which helps us see how well our model can differentiate between smokers and non-smokers based on height. This visualization includes a decision boundary that shows us the threshold for classification, helping us understand how height influences smoking predictions."
   ]
  },
  {
   "cell_type": "code",
   "execution_count": 18,
   "id": "7d65e5a4",
   "metadata": {},
   "outputs": [
    {
     "name": "stderr",
     "output_type": "stream",
     "text": [
      "C:\\Users\\norah\\anaconda3\\lib\\site-packages\\sklearn\\base.py:465: UserWarning: X does not have valid feature names, but LogisticRegression was fitted with feature names\n",
      "  warnings.warn(\n"
     ]
    },
    {
     "data": {
      "image/png": "[encoded data removed]",
      "text/plain": [
       "<Figure size 432x288 with 1 Axes>"
      ]
     },
     "metadata": {
      "needs_background": "light"
     },
     "output_type": "display_data"
    }
   ],
   "source": [
    "# Filter the data after training\n",
    "def filter_data(df):\n",
    "    # Remove non-smokers with height greater than 171\n",
    "    df = df[~((df['smoking'] == 0) & (df['height(cm)'] > 171))]\n",
    "    # Remove smokers with height less than 171\n",
    "    df = df[~((df['smoking'] == 1) & (df['height(cm)'] < 171))]\n",
    "    return df\n",
    "\n",
    "# Apply filtering to the original dataset\n",
    "filtered_data = filter_data(data_with_dummies)\n",
    "\n",
    "# Call the visualization function with the filtered data\n",
    "viz_worst_concave_points(filtered_data, lm1, decision_boundary=True)"
   ]
  },
  {
   "cell_type": "markdown",
   "id": "3abfbbff",
   "metadata": {},
   "source": [
    "**Next,** we prepare our dataset to train and evaluate a Logistic Regression model:\n",
    "\n",
    "1. **Splitting the Dataset**: We use `train_test_split` to divide our data into training (80%) and testing (20%) sets, ensuring reproducibility with `random_state=42`.\n",
    "\n",
    "2. **Scaling the Features**: We apply `StandardScaler` to standardize the feature values, which helps improve the model's performance by ensuring all features are on a similar scale.\n",
    "\n",
    "3. **Creating and Training the Model**: We create an instance of the Logistic Regression model and train it using the scaled training data (`X_train` and `y_train`), allowing the model to learn the relationship between features and smoking status.\n",
    "\n",
    "4. **Making Predictions**: After training, we predict the smoking status on the scaled testing set (`X_test`).\n",
    "\n",
    "5. **Evaluating the Model**: Finally, we use `confusion_matrix` and `classification_report` to assess the model’s performance, providing insights into accuracy, precision, recall, and F1-score for each class.\n",
    "\n",
    "This process enables us to effectively train and evaluate our model's ability to classify smoking status."
   ]
  },
  {
   "cell_type": "code",
   "execution_count": 19,
   "id": "6f0f6157",
   "metadata": {},
   "outputs": [],
   "source": [
    "X = data_with_dummies.drop(columns=['smoking'])   # Features\n",
    "y = data_with_dummies['smoking']  # Target variable"
   ]
  },
  {
   "cell_type": "code",
   "execution_count": 20,
   "id": "d1ff3ae7",
   "metadata": {},
   "outputs": [
    {
     "name": "stdout",
     "output_type": "stream",
     "text": [
      "Cross-validation scores: [0.75113636 0.72727273 0.74090909 0.75568182 0.76022727]\n",
      "Mean cross-validation score: 0.7470454545454547\n",
      "\n",
      "Confusion Matrix:\n",
      "[[534 151]\n",
      " [131 284]]\n",
      "\n",
      "Classification Report:\n",
      "              precision    recall  f1-score   support\n",
      "\n",
      "           0       0.80      0.78      0.79       685\n",
      "           1       0.65      0.68      0.67       415\n",
      "\n",
      "    accuracy                           0.74      1100\n",
      "   macro avg       0.73      0.73      0.73      1100\n",
      "weighted avg       0.75      0.74      0.74      1100\n",
      "\n"
     ]
    }
   ],
   "source": [
    "# Split the dataset into training and testing sets\n",
    "X_train, X_test, y_train, y_test = train_test_split(X, y, test_size=0.2, random_state=42)\n",
    "\n",
    "# Scale the features\n",
    "scaler = StandardScaler()\n",
    "X_train = scaler.fit_transform(X_train)\n",
    "X_test = scaler.transform(X_test)\n",
    "\n",
    "# Create the Random Forest model (considering it's more complex)\n",
    "model = RandomForestClassifier(random_state=42)\n",
    "\n",
    "# Perform stratified cross-validation\n",
    "skf = StratifiedKFold(n_splits=5)\n",
    "cv_scores = cross_val_score(model, X_train, y_train, cv=skf)\n",
    "print(\"Cross-validation scores:\", cv_scores)\n",
    "print(\"Mean cross-validation score:\", cv_scores.mean())\n",
    "\n",
    "# Train the model on the entire training set\n",
    "model.fit(X_train, y_train)\n",
    "\n",
    "# Make predictions on the test set\n",
    "y_pred = model.predict(X_test)\n",
    "\n",
    "# Evaluate the model\n",
    "print(\"\\nConfusion Matrix:\")\n",
    "print(confusion_matrix(y_test, y_pred))\n",
    "\n",
    "print(\"\\nClassification Report:\")\n",
    "print(classification_report(y_test, y_pred))"
   ]
  },
  {
   "cell_type": "markdown",
   "id": "e5fe96b3",
   "metadata": {},
   "source": [
    "**Evaluation Results:**\n",
    "\n",
    "**Confusion Matrix:**  \n",
    "\\\\begin{bmatrix} 534 & 151 \\\\ 131 & 284 \\end{bmatrix}\n",
    "\n",
    "- **True Negatives (TN):** 534 (correctly predicted non-smokers)  \n",
    "- **False Positives (FP):** 151 (non-smokers incorrectly predicted as smokers)  \n",
    "- **False Negatives (FN):** 131 (smokers incorrectly predicted as non-smokers)  \n",
    "- **True Positives (TP):** 284 (correctly predicted smokers)  \n",
    "\n",
    "**Classification Report:**\n",
    "\n",
    "- **Precision:**  \n",
    "  - Non-smokers (0): 0.80  \n",
    "  - Smokers (1): 0.65  \n",
    "\n",
    "- **Recall:**  \n",
    "  - Non-smokers (0): 0.78  \n",
    "  - Smokers (1): 0.68  \n",
    "\n",
    "- **F1 Score:**  \n",
    "  - Non-smokers (0): 0.79  \n",
    "  - Smokers (1): 0.67  \n",
    "\n",
    "**Overall Accuracy:** 74%"
   ]
  },
  {
   "cell_type": "code",
   "execution_count": 21,
   "id": "7df1c334",
   "metadata": {},
   "outputs": [
    {
     "data": {
      "image/png": "[encoded data removed]",
      "text/plain": [
       "<Figure size 480x320 with 2 Axes>"
      ]
     },
     "metadata": {
      "needs_background": "light"
     },
     "output_type": "display_data"
    }
   ],
   "source": [
    "def make_confusion_matrix(model, X_test, y_test, threshold=0.5):\n",
    "    # Predict class 1 if probability of being in class 1 is greater than threshold\n",
    "    y_predict = (model.predict_proba(X_test)[:, 1] >= threshold)\n",
    "    fraud_confusion = confusion_matrix(y_test, y_predict)\n",
    "\n",
    "    # Plotting the confusion matrix\n",
    "    plt.figure(dpi=80)\n",
    "    sns.heatmap(fraud_confusion, cmap=plt.cm.Blues, annot=True, square=True, fmt='d',\n",
    "                 xticklabels=['Not Smoking', 'Smoking'],  # Adjust labels based on your target\n",
    "                 yticklabels=['Not Smoking', 'Smoking'])  # Adjust labels based on your target\n",
    "    plt.xlabel('Prediction')\n",
    "    plt.ylabel('Actual')\n",
    "    plt.title('Confusion Matrix')\n",
    "    plt.show()\n",
    "\n",
    "# Call the function to display the confusion matrix\n",
    "make_confusion_matrix(model, X_test, y_test)"
   ]
  },
  {
   "cell_type": "markdown",
   "id": "8e340dac",
   "metadata": {},
   "source": [
    "## Model Comparison: K-Nearest Neighbors (KNN) vs. Logistic Regression\n"
   ]
  },
  {
   "cell_type": "code",
   "execution_count": 22,
   "id": "25f6e8b4",
   "metadata": {},
   "outputs": [
    {
     "data": {
      "text/html": [
       "<div>\n",
       "<style scoped>\n",
       "    .dataframe tbody tr th:only-of-type {\n",
       "        vertical-align: middle;\n",
       "    }\n",
       "\n",
       "    .dataframe tbody tr th {\n",
       "        vertical-align: top;\n",
       "    }\n",
       "\n",
       "    .dataframe thead th {\n",
       "        text-align: right;\n",
       "    }\n",
       "</style>\n",
       "<table border=\"1\" class=\"dataframe\">\n",
       "  <thead>\n",
       "    <tr style=\"text-align: right;\">\n",
       "      <th></th>\n",
       "      <th>Metric</th>\n",
       "      <th>K-Nearest Neighbors (KNN)</th>\n",
       "      <th>Logistic Regression</th>\n",
       "    </tr>\n",
       "  </thead>\n",
       "  <tbody>\n",
       "    <tr>\n",
       "      <th>0</th>\n",
       "      <td>Best k</td>\n",
       "      <td>89</td>\n",
       "      <td>None</td>\n",
       "    </tr>\n",
       "    <tr>\n",
       "      <th>1</th>\n",
       "      <td>Cross-Validation Accuracy</td>\n",
       "      <td>73.64%</td>\n",
       "      <td>74.70%</td>\n",
       "    </tr>\n",
       "    <tr>\n",
       "      <th>2</th>\n",
       "      <td>Confusion Matrix</td>\n",
       "      <td>[[510 175]\\n [139 276]]</td>\n",
       "      <td>[[534 151]\\n [131 284]]</td>\n",
       "    </tr>\n",
       "    <tr>\n",
       "      <th>3</th>\n",
       "      <td>Precision (Non-smokers)</td>\n",
       "      <td>0.79</td>\n",
       "      <td>0.8</td>\n",
       "    </tr>\n",
       "    <tr>\n",
       "      <th>4</th>\n",
       "      <td>Precision (Smokers)</td>\n",
       "      <td>0.61</td>\n",
       "      <td>0.65</td>\n",
       "    </tr>\n",
       "    <tr>\n",
       "      <th>5</th>\n",
       "      <td>Recall (Non-smokers)</td>\n",
       "      <td>0.74</td>\n",
       "      <td>0.78</td>\n",
       "    </tr>\n",
       "    <tr>\n",
       "      <th>6</th>\n",
       "      <td>Recall (Smokers)</td>\n",
       "      <td>0.67</td>\n",
       "      <td>0.68</td>\n",
       "    </tr>\n",
       "    <tr>\n",
       "      <th>7</th>\n",
       "      <td>Overall Accuracy</td>\n",
       "      <td>71%</td>\n",
       "      <td>74%</td>\n",
       "    </tr>\n",
       "  </tbody>\n",
       "</table>\n",
       "</div>"
      ],
      "text/plain": [
       "                      Metric K-Nearest Neighbors (KNN)  \\\n",
       "0                     Best k                        89   \n",
       "1  Cross-Validation Accuracy                    73.64%   \n",
       "2           Confusion Matrix   [[510 175]\\n [139 276]]   \n",
       "3    Precision (Non-smokers)                      0.79   \n",
       "4        Precision (Smokers)                      0.61   \n",
       "5       Recall (Non-smokers)                      0.74   \n",
       "6           Recall (Smokers)                      0.67   \n",
       "7           Overall Accuracy                       71%   \n",
       "\n",
       "       Logistic Regression  \n",
       "0                     None  \n",
       "1                   74.70%  \n",
       "2  [[534 151]\\n [131 284]]  \n",
       "3                      0.8  \n",
       "4                     0.65  \n",
       "5                     0.78  \n",
       "6                     0.68  \n",
       "7                      74%  "
      ]
     },
     "execution_count": 22,
     "metadata": {},
     "output_type": "execute_result"
    }
   ],
   "source": [
    "import pandas as pd\n",
    "\n",
    "# Create a DataFrame for the comparison\n",
    "data = {\n",
    "    'Metric': [\n",
    "        'Best k', \n",
    "        'Cross-Validation Accuracy', \n",
    "        'Confusion Matrix', \n",
    "        'Precision (Non-smokers)', \n",
    "        'Precision (Smokers)', \n",
    "        'Recall (Non-smokers)', \n",
    "        'Recall (Smokers)', \n",
    "        'Overall Accuracy'\n",
    "    ],\n",
    "    'K-Nearest Neighbors (KNN)': [\n",
    "        89, \n",
    "        '73.64%', \n",
    "        '[[510 175]\\n [139 276]]', \n",
    "        0.79, \n",
    "        0.61, \n",
    "        0.74, \n",
    "        0.67, \n",
    "        '71%'\n",
    "    ],\n",
    "    'Logistic Regression': [\n",
    "        None, \n",
    "        '74.70%',  # Mean cross-validation score\n",
    "        '[[534 151]\\n [131 284]]', \n",
    "        0.80, \n",
    "        0.65, \n",
    "        0.78, \n",
    "        0.68, \n",
    "        '74%'\n",
    "    ]\n",
    "}\n",
    "\n",
    "comparison_df = pd.DataFrame(data)\n",
    "\n",
    "# Display the table\n",
    "comparison_df"
   ]
  },
  {
   "cell_type": "markdown",
   "id": "a78e3610",
   "metadata": {},
   "source": [
    "### Summary\n",
    "\n",
    "- **Accuracy**: Logistic Regression (74%) slightly outperforms KNN (71%).\n",
    "- **Precision**: Logistic Regression is better for non-smokers (0.80 vs. 0.79) and also for smokers (0.65 vs. 0.61).\n",
    "- **Recall**: Logistic Regression excels for non-smokers (0.78), while KNN shows a marginally better recall for smokers (0.67 vs. 0.68).\n",
    "- **Overall Performance**: KNN has a lower overall accuracy (71%) compared to Logistic Regression (74%).\n",
    "\n",
    "### Conclusion\n",
    "\n",
    "In this analysis, Logistic Regression demonstrates a slight edge over KNN across most metrics, particularly in overall accuracy and precision for both non-smokers and smokers. While KNN shows competitive recall for smokers, the performance of Logistic Regression remains superior overall. This suggests that for this dataset, Logistic Regression may be the preferred model for predicting outcomes related to smoking status."
   ]
  }
 ],
 "metadata": {
  "kernelspec": {
   "display_name": "Python 3",
   "language": "python",
   "name": "python3"
  },
  "language_info": {
   "codemirror_mode": {
    "name": "ipython",
    "version": 3
   },
   "file_extension": ".py",
   "mimetype": "text/x-python",
   "name": "python",
   "nbconvert_exporter": "python",
   "pygments_lexer": "ipython3",
   "version": "3.8.8"
  }
 },
 "nbformat": 4,
 "nbformat_minor": 5
}
